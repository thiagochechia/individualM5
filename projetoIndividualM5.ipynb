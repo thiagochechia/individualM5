{
  "nbformat": 4,
  "nbformat_minor": 0,
  "metadata": {
    "colab": {
      "provenance": []
    },
    "kernelspec": {
      "name": "python3",
      "display_name": "Python 3"
    },
    "language_info": {
      "name": "python"
    }
  },
  "cells": [
    {
      "cell_type": "markdown",
      "source": [
        "- Analise exploratoria dos dados fornecidos pelo departamento de recursos humanos baseados em uma tabela composta por quatro colunas sendo a primeira delas Razoes para deixar a empresa, a segunda coluna e o Nivel de Impacto desta razao , a terceira coluna refere-se a uma pesquisa feita pelo RH onde perguntam aos funcionarios quais as razoes que mais impactam quando eles decidem deixar a empresa , sao 11 motivos e o funcionario escolhera 1, a quarta coluna refere-se a uma pesquisa feita no momento da saída do funcionário da empresa onde o mesmo encontra-se mais livre para responder pois ja nao sofrera nenhuma punicao ou retaliacao devido a sua resposta.\n",
        "\n"
      ],
      "metadata": {
        "id": "oT6m5GwJiuHn"
      }
    },
    {
      "cell_type": "markdown",
      "source": [
        "![Reasons for Leaving](https://swd-community-media.s3.amazonaws.com/media/django-summernote/2021-05-12/38651886-9bfe-4266-8c5d-cce1edd2b93c.png)"
      ],
      "metadata": {
        "id": "bExPL0N1eNP2"
      }
    },
    {
      "cell_type": "markdown",
      "source": [
        "- Importando as bibliotecas necessarias"
      ],
      "metadata": {
        "id": "HsiZWxvs4Gjk"
      }
    },
    {
      "cell_type": "code",
      "source": [
        "import pandas as pd\n",
        "import numpy as np"
      ],
      "metadata": {
        "id": "Unoqi1fjz_6r"
      },
      "execution_count": 2,
      "outputs": []
    },
    {
      "cell_type": "markdown",
      "source": [
        "- Criando dataframe para apresentar os dados de forma organizada e realizar os calculos necessarios"
      ],
      "metadata": {
        "id": "uhrZMugo38LC"
      }
    },
    {
      "cell_type": "code",
      "source": [
        "data = {\n",
        "    'Reasons to Leave': ['Training', 'Conflict with others', 'Lack of recognition,','Workload', 'Career advancement', 'Pay', 'Type of work', 'Career change', 'Commute', 'Relocation','Illness'],\n",
        "    'Ability to impact': [11, 10, 9, 8, 7, 6, 5, 4,3,2,1],\n",
        "    'HRBP': [31, 11, 65, 14, 137, 16, 128, 18, 31,105,9],\n",
        "    'Exit Survey': [23, 15, 44, 39, 171, 24, 78, 30, 22,37,21]\n",
        "}\n",
        "\n",
        "df = pd.DataFrame(data)\n",
        "print(df.to_string(index=False))# retirando os indices do lado esquerdo para melhor visualizacao\n"
      ],
      "metadata": {
        "colab": {
          "base_uri": "https://localhost:8080/"
        },
        "id": "GNzC0K703bJA",
        "outputId": "6d91e73c-b7f2-48d0-c83e-55d6b6ce6711"
      },
      "execution_count": 17,
      "outputs": [
        {
          "output_type": "stream",
          "name": "stdout",
          "text": [
            "    Reasons to Leave  Ability to impact  HRBP  Exit Survey\n",
            "            Training                 11    31           23\n",
            "Conflict with others                 10    11           15\n",
            "Lack of recognition,                  9    65           44\n",
            "            Workload                  8    14           39\n",
            "  Career advancement                  7   137          171\n",
            "                 Pay                  6    16           24\n",
            "        Type of work                  5   128           78\n",
            "       Career change                  4    18           30\n",
            "             Commute                  3    31           22\n",
            "          Relocation                  2   105           37\n",
            "             Illness                  1     9           21\n"
          ]
        }
      ]
    },
    {
      "cell_type": "code",
      "source": [
        "dados = {\n",
        "    'Razoes': ['Treinamento ', 'Conflitos com outros', 'Falta de reconhecimento', 'Carga horária ', 'Progressão de carreira', 'Remuneração ', 'Tipo de trabalho', 'Mudanca de carreira', 'Trajeto', 'Realocação', 'Problemas de saúde'],\n",
        "    'Impacto': [11, 10, 9, 8, 7, 6, 5, 4,3,2,1],\n",
        "    'Pesquisa do RH': [31, 11, 65, 14, 137, 16, 128, 18, 31,105,9],\n",
        "    'Pesquisa de Saída': [23, 15, 44, 39, 171, 24, 78, 30, 22,37,21]\n",
        "}\n",
        "\n",
        "df = pd.DataFrame(dados)\n",
        "\n",
        "print(df.to_string(index=False)) # retirando os indices do lado esquerdo para melhor visualizacao"
      ],
      "metadata": {
        "colab": {
          "base_uri": "https://localhost:8080/"
        },
        "id": "ga11I4ytxAod",
        "outputId": "d97b1cc8-6bba-42cf-e594-0f9160e61ebb"
      },
      "execution_count": 16,
      "outputs": [
        {
          "output_type": "stream",
          "name": "stdout",
          "text": [
            "                 Razoes  Impacto  Pesquisa do RH  Pesquisa de Saída\n",
            "           Treinamento        11              31                 23\n",
            "   Conflitos com outros       10              11                 15\n",
            "Falta de reconhecimento        9              65                 44\n",
            "         Carga horária         8              14                 39\n",
            " Progressão de carreira        7             137                171\n",
            "           Remuneração         6              16                 24\n",
            "       Tipo de trabalho        5             128                 78\n",
            "    Mudanca de carreira        4              18                 30\n",
            "                Trajeto        3              31                 22\n",
            "             Realocação        2             105                 37\n",
            "     Problemas de saúde        1               9                 21\n"
          ]
        }
      ]
    },
    {
      "cell_type": "markdown",
      "source": [
        "- Somando os dados da coluna Pesquisa do R.H.\n"
      ],
      "metadata": {
        "id": "lM8i3Cch7Z48"
      }
    },
    {
      "cell_type": "code",
      "source": [
        "soma_pesquisa_rh = df['Pesquisa do RH'].sum()\n",
        "print(\"A soma da coluna 'Pesquisa do RH' é:\", soma_pesquisa_rh)\n",
        "print( 'Este é o total de respostas na Pesquisa do R.H.' )"
      ],
      "metadata": {
        "colab": {
          "base_uri": "https://localhost:8080/"
        },
        "id": "mZ5xKu237eTd",
        "outputId": "dea73394-73ca-4618-fa7c-aace9413fb97"
      },
      "execution_count": 15,
      "outputs": [
        {
          "output_type": "stream",
          "name": "stdout",
          "text": [
            "A soma da coluna 'Pesquisa do RH' é: 565\n",
            "Este é o total de respostas na Pesquisa do R.H.\n"
          ]
        }
      ]
    },
    {
      "cell_type": "markdown",
      "source": [
        "- Somando os dados da coluna Pesquisa de saída"
      ],
      "metadata": {
        "id": "_sH-4Fz77mrX"
      }
    },
    {
      "cell_type": "code",
      "source": [
        "soma_pesquisa_saida = df['Pesquisa de Saída'].sum()\n",
        "print(\"A soma da coluna 'Pesquisa de Saída' é:\", soma_pesquisa_saida)\n",
        "print( 'Este é o total de respostas na Pesquisa de Saída' )"
      ],
      "metadata": {
        "colab": {
          "base_uri": "https://localhost:8080/"
        },
        "id": "N3MnIKtY7t4R",
        "outputId": "81bbbb21-080b-4455-f0ac-8227ad43ea69"
      },
      "execution_count": 14,
      "outputs": [
        {
          "output_type": "stream",
          "name": "stdout",
          "text": [
            "A soma da coluna 'Pesquisa de Saída' é: 504\n",
            "Este é o total de respostas na Pesquisa de Saída\n"
          ]
        }
      ]
    },
    {
      "cell_type": "code",
      "source": [
        "dados = {\n",
        "    'Razoes': ['Treinamento ', 'Conflitos com outros', 'Falta de reconhecimento', 'Carga horária ', 'Progressão de carreira', 'Remuneração ', 'Tipo de trabalho', 'Mudanca de carreira', 'Trajeto', 'Realocação', 'Problemas de saúde'],\n",
        "    'Impacto': [11, 10, 9, 8, 7, 6, 5, 4,3,2,1],\n",
        "    'Pesquisa do RH': [31, 11, 65, 14, 137, 16, 128, 18, 31,105,9],\n",
        "    'Pesquisa de Saída': [23, 15, 44, 39, 171, 24, 78, 30, 22,37,21]\n",
        "}\n",
        "\n",
        "df = pd.DataFrame(dados)\n",
        "\n",
        "# 1. Calculando o número total de respostas na coluna 'Pesquisa do RH'\n",
        "total_respostas = df['Pesquisa do RH'].sum()\n",
        "\n",
        "# 2. Criando uma nova coluna para representar as porcentagens com formatação\n",
        "df['Porcentagem'] = (df['Pesquisa do RH'] / total_respostas) * 100\n",
        "df['Porcentagem'] = df['Porcentagem'].apply(lambda x: \"{:.2f}%\".format(x))\n",
        "\n",
        "# 3. Imprimindo o DataFrame com as porcentagens formatadas com duas casas decimais\n",
        "print(df[['Razoes', 'Porcentagem']])\n",
        "\n"
      ],
      "metadata": {
        "colab": {
          "base_uri": "https://localhost:8080/"
        },
        "id": "Bov2-ukJ-z1D",
        "outputId": "5a65d0b0-5c35-4f91-8cc5-c39491d81926"
      },
      "execution_count": 12,
      "outputs": [
        {
          "output_type": "stream",
          "name": "stdout",
          "text": [
            "                     Razoes Porcentagem\n",
            "0              Treinamento        5.49%\n",
            "1      Conflitos com outros       1.95%\n",
            "2   Falta de reconhecimento      11.50%\n",
            "3            Carga horária        2.48%\n",
            "4    Progressão de carreira      24.25%\n",
            "5              Remuneração        2.83%\n",
            "6          Tipo de trabalho      22.65%\n",
            "7       Mudanca de carreira       3.19%\n",
            "8                   Trajeto       5.49%\n",
            "9                Realocação      18.58%\n",
            "10       Problemas de saúde       1.59%\n"
          ]
        }
      ]
    },
    {
      "cell_type": "code",
      "source": [
        "dados = {\n",
        "    'Razoes': ['Treinamento ', 'Conflitos com outros', 'Falta de reconhecimento', 'Carga horária ', 'Progressão de carreira', 'Remuneração ', 'Tipo de trabalho', 'Mudanca de carreira', 'Trajeto', 'Realocação', 'Problemas de saúde'],\n",
        "    'Impacto': [11, 10, 9, 8, 7, 6, 5, 4,3,2,1],\n",
        "    'Pesquisa do RH': [31, 11, 65, 14, 137, 16, 128, 18, 31,105,9],\n",
        "    'Pesquisa de Saída': [23, 15, 44, 39, 171, 24, 78, 30, 22,37,21]\n",
        "}\n",
        "\n",
        "df = pd.DataFrame(dados)\n",
        "\n",
        "# 1. Calculando o número total de respostas na coluna 'Pesquisa de Saída'\n",
        "total_respostas_saida = df['Pesquisa de Saída'].sum()\n",
        "\n",
        "# 2. Criando uma nova coluna para representar as porcentagens com formatação\n",
        "df['Porcentagem Pesquisa de Saída'] = (df['Pesquisa de Saída'] / total_respostas_saida) * 100\n",
        "df['Porcentagem Pesquisa de Saída'] = df['Porcentagem Pesquisa de Saída'].apply(lambda x: \"{:.2f}%\".format(x))\n",
        "\n",
        "# 3. Imprimindo o DataFrame com as porcentagens formatadas com duas casas decimais\n",
        "print(df[['Razoes', 'Porcentagem Pesquisa de Saída']])\n"
      ],
      "metadata": {
        "colab": {
          "base_uri": "https://localhost:8080/"
        },
        "id": "Mndy9rUJ_k7E",
        "outputId": "27ee87b3-770d-4d95-ff1c-a968fd85355c"
      },
      "execution_count": 13,
      "outputs": [
        {
          "output_type": "stream",
          "name": "stdout",
          "text": [
            "                     Razoes Porcentagem Pesquisa de Saída\n",
            "0              Treinamento                          4.56%\n",
            "1      Conflitos com outros                         2.98%\n",
            "2   Falta de reconhecimento                         8.73%\n",
            "3            Carga horária                          7.74%\n",
            "4    Progressão de carreira                        33.93%\n",
            "5              Remuneração                          4.76%\n",
            "6          Tipo de trabalho                        15.48%\n",
            "7       Mudanca de carreira                         5.95%\n",
            "8                   Trajeto                         4.37%\n",
            "9                Realocação                         7.34%\n",
            "10       Problemas de saúde                         4.17%\n"
          ]
        }
      ]
    },
    {
      "cell_type": "code",
      "source": [
        "dados = {\n",
        "    'Razoes': ['Treinamento ', 'Conflitos com outros', 'Falta de reconhecimento', 'Carga horária ', 'Progressão de carreira', 'Remuneração ', 'Tipo de trabalho', 'Mudanca de carreira', 'Trajeto', 'Realocação', 'Problemas de saúde'],\n",
        "    'Impacto': [11, 10, 9, 8, 7, 6, 5, 4,3,2,1],\n",
        "    'Pesquisa do RH': [31, 11, 65, 14, 137, 16, 128, 18, 31,105,9],\n",
        "    'Pesquisa de Saída': [23, 15, 44, 39, 171, 24, 78, 30, 22,37,21]\n",
        "}\n",
        "\n",
        "df = pd.DataFrame(dados)\n",
        "total_respostas_saida = df['Pesquisa de Saída'].sum()\n",
        "total_respostas = df['Pesquisa de Saída'].sum()\n",
        "df['Porcentagem Saída'] = (df['Pesquisa de Saída'] / total_respostas_saida) * 100\n",
        "df['Porcentagem Saída'] = df['Porcentagem Saída'].apply(lambda x: \"{:.2f}%\".format(x))\n",
        "\n",
        "\n",
        "\n",
        "print(df.to_string(index=False)) # retirando os indices do lado esquerdo para melhor visualizacao\n",
        "df['Porcentagem'] = (df['Pesquisa do RH'] / total_respostas) * 100\n",
        "df['Porcentagem'] = df['Porcentagem'].apply(lambda x: \"{:.2f}%\".format(x))\n",
        "df['Porcentagem Saída'] = (df['Pesquisa de Saída'] / total_respostas_saida) * 100\n",
        "df['Porcentagem Saída'] = df['Porcentagem Saída'].apply(lambda x: \"{:.2f}%\".format(x))\n",
        "\n",
        "df = pd.DataFrame(dados)\n",
        "total_respostas_saida = df['Pesquisa do RH'].sum()\n",
        "total_respostas = df['Pesquisa do RH'].sum()\n",
        "\n",
        "\n",
        "\n",
        "\n"
      ],
      "metadata": {
        "colab": {
          "base_uri": "https://localhost:8080/"
        },
        "outputId": "d04c98c0-2638-466a-e455-ffe3d4656d05",
        "id": "JfP59pWHguQq"
      },
      "execution_count": 27,
      "outputs": [
        {
          "output_type": "stream",
          "name": "stdout",
          "text": [
            "                 Razoes  Impacto  Pesquisa do RH  Pesquisa de Saída Porcentagem Saída\n",
            "           Treinamento        11              31                 23             4.56%\n",
            "   Conflitos com outros       10              11                 15             2.98%\n",
            "Falta de reconhecimento        9              65                 44             8.73%\n",
            "         Carga horária         8              14                 39             7.74%\n",
            " Progressão de carreira        7             137                171            33.93%\n",
            "           Remuneração         6              16                 24             4.76%\n",
            "       Tipo de trabalho        5             128                 78            15.48%\n",
            "    Mudanca de carreira        4              18                 30             5.95%\n",
            "                Trajeto        3              31                 22             4.37%\n",
            "             Realocação        2             105                 37             7.34%\n",
            "     Problemas de saúde        1               9                 21             4.17%\n"
          ]
        }
      ]
    },
    {
      "cell_type": "code",
      "source": [
        "dados = {\n",
        "    'Razoes': ['Treinamento ', 'Conflitos com outros', 'Falta de reconhecimento', 'Carga horária ', 'Progressão de carreira', 'Remuneração ', 'Tipo de trabalho', 'Mudanca de carreira', 'Trajeto', 'Realocação', 'Problemas de saúde'],\n",
        "    'Impacto': [11, 10, 9, 8, 7, 6, 5, 4,3,2,1],\n",
        "    'Pesquisa do RH': [31, 11, 65, 14, 137, 16, 128, 18, 31,105,9],\n",
        "    'Pesquisa de Saída': [23, 15, 44, 39, 171, 24, 78, 30, 22,37,21]\n",
        "}\n",
        "\n",
        "df = pd.DataFrame(dados)\n",
        "total_respostas_saida = df['Pesquisa do RH'].sum()\n",
        "total_respostas = df['Pesquisa do RH'].sum()\n",
        "df['Porcentagem'] = (df['Pesquisa do RH'] / total_respostas_saida) * 100\n",
        "df['Porcentagem'] = df['Porcentagem'].apply(lambda x: \"{:.2f}%\".format(x))\n",
        "\n",
        "\n",
        "\n",
        "print(df.to_string(index=False)) # retirando os indices do lado esquerdo para melhor visualizacao\n",
        "df['Porcentagem'] = (df['Pesquisa do RH'] / total_respostas) * 100\n",
        "df['Porcentagem'] = df['Porcentagem'].apply(lambda x: \"{:.2f}%\".format(x))\n",
        "df['Porcentagem'] = (df['Pesquisa do RH'] / total_respostas_saida) * 100\n",
        "df['Porcentagem'] = df['Porcentagem'].apply(lambda x: \"{:.2f}%\".format(x))\n",
        "\n",
        "df = pd.DataFrame(dados)\n",
        "total_respostas_saida = df['Pesquisa do RH'].sum()\n",
        "total_respostas = df['Pesquisa do RH'].sum()"
      ],
      "metadata": {
        "colab": {
          "base_uri": "https://localhost:8080/"
        },
        "id": "qj4fxC3ZmFRL",
        "outputId": "cbcb851a-35e5-45e5-d78a-7c7212865613"
      },
      "execution_count": 26,
      "outputs": [
        {
          "output_type": "stream",
          "name": "stdout",
          "text": [
            "                 Razoes  Impacto  Pesquisa do RH  Pesquisa de Saída Porcentagem\n",
            "           Treinamento        11              31                 23       5.49%\n",
            "   Conflitos com outros       10              11                 15       1.95%\n",
            "Falta de reconhecimento        9              65                 44      11.50%\n",
            "         Carga horária         8              14                 39       2.48%\n",
            " Progressão de carreira        7             137                171      24.25%\n",
            "           Remuneração         6              16                 24       2.83%\n",
            "       Tipo de trabalho        5             128                 78      22.65%\n",
            "    Mudanca de carreira        4              18                 30       3.19%\n",
            "                Trajeto        3              31                 22       5.49%\n",
            "             Realocação        2             105                 37      18.58%\n",
            "     Problemas de saúde        1               9                 21       1.59%\n"
          ]
        }
      ]
    }
  ]
}